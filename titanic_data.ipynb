{
 "cells": [
  {
   "cell_type": "markdown",
   "metadata": {},
   "source": [
    "# Titanic Data Analysis 泰坦尼克号数据分析\n",
    "\n",
    "这里的数据包括泰坦尼克号上 2224 名乘客和船员中 891 名的人口学数据和乘客基本信息。\n",
    "\n",
    "Kaggle网站上查看这个数据集的详细描述： https://www.kaggle.com/c/titanic/data\n",
    "\n",
    " （ Kaggle是一个数据分析建模的应用竞赛平台，有点类似KDD-CUP（国际知识发现和数据挖掘竞赛 ）"
   ]
  },
  {
   "cell_type": "markdown",
   "metadata": {},
   "source": [
    "### 思考可以用数据集回答：\n",
    "\n",
    "从泰坦尼克号数据中，有哪些因素会让船上的人生还率更高？\n",
    "\n",
    "\n",
    "### 分析需要包含如下内容：\n",
    "\n",
    " （ 通过NumPy和Pandas进行调查 ）\n",
    "\n",
    "● 指定所分析数据集的注解\n",
    "\n",
    "● 对所提出问题的陈述\n",
    "\n",
    "● 针对这些问题进行的调查的描述\n",
    "\n",
    "● 进行的所有数据处理的记录\n",
    "\n",
    "● 传达最终结果的摘要统计量和图形"
   ]
  },
  {
   "cell_type": "markdown",
   "metadata": {},
   "source": [
    "# 1. 导入数据"
   ]
  },
  {
   "cell_type": "markdown",
   "metadata": {},
   "source": [
    "## 1.1 导入CSV"
   ]
  },
  {
   "cell_type": "code",
   "execution_count": 1,
   "metadata": {
    "collapsed": false
   },
   "outputs": [
    {
     "name": "stdout",
     "output_type": "stream",
     "text": [
      "<class 'pandas.core.frame.DataFrame'>\n",
      "RangeIndex: 891 entries, 0 to 890\n",
      "Data columns (total 12 columns):\n",
      "PassengerId    891 non-null int64\n",
      "Survived       891 non-null int64\n",
      "Pclass         891 non-null int64\n",
      "Name           891 non-null object\n",
      "Sex            891 non-null object\n",
      "Age            714 non-null float64\n",
      "SibSp          891 non-null int64\n",
      "Parch          891 non-null int64\n",
      "Ticket         891 non-null object\n",
      "Fare           891 non-null float64\n",
      "Cabin          204 non-null object\n",
      "Embarked       889 non-null object\n",
      "dtypes: float64(2), int64(5), object(5)\n",
      "memory usage: 66.2+ KB\n"
     ]
    }
   ],
   "source": [
    "# 引入需要用的库\n",
    "import pandas as pd\n",
    "import numpy as np\n",
    "from pandas import Series,DataFrame\n",
    "import matplotlib\n",
    "import matplotlib.pyplot as plt\n",
    "import matplotlib.pyplot as mpl #添加中文支持\n",
    "mpl.rcParams['font.sans-serif']=['SimHei']\n",
    "\n",
    "filename = 'titanic-data.csv'\n",
    "df = pd.read_csv(filename)\n",
    "df.info()"
   ]
  },
  {
   "cell_type": "markdown",
   "metadata": {},
   "source": [
    "## 1.2 详细信息"
   ]
  },
  {
   "cell_type": "code",
   "execution_count": 2,
   "metadata": {
    "collapsed": false
   },
   "outputs": [
    {
     "data": {
      "text/html": [
       "<div>\n",
       "<table border=\"1\" class=\"dataframe\">\n",
       "  <thead>\n",
       "    <tr style=\"text-align: right;\">\n",
       "      <th></th>\n",
       "      <th>PassengerId</th>\n",
       "      <th>Survived</th>\n",
       "      <th>Pclass</th>\n",
       "      <th>Name</th>\n",
       "      <th>Sex</th>\n",
       "      <th>Age</th>\n",
       "      <th>SibSp</th>\n",
       "      <th>Parch</th>\n",
       "      <th>Ticket</th>\n",
       "      <th>Fare</th>\n",
       "      <th>Cabin</th>\n",
       "      <th>Embarked</th>\n",
       "    </tr>\n",
       "  </thead>\n",
       "  <tbody>\n",
       "    <tr>\n",
       "      <th>0</th>\n",
       "      <td>1</td>\n",
       "      <td>0</td>\n",
       "      <td>3</td>\n",
       "      <td>Braund, Mr. Owen Harris</td>\n",
       "      <td>male</td>\n",
       "      <td>22.0</td>\n",
       "      <td>1</td>\n",
       "      <td>0</td>\n",
       "      <td>A/5 21171</td>\n",
       "      <td>7.2500</td>\n",
       "      <td>NaN</td>\n",
       "      <td>S</td>\n",
       "    </tr>\n",
       "    <tr>\n",
       "      <th>1</th>\n",
       "      <td>2</td>\n",
       "      <td>1</td>\n",
       "      <td>1</td>\n",
       "      <td>Cumings, Mrs. John Bradley (Florence Briggs Th...</td>\n",
       "      <td>female</td>\n",
       "      <td>38.0</td>\n",
       "      <td>1</td>\n",
       "      <td>0</td>\n",
       "      <td>PC 17599</td>\n",
       "      <td>71.2833</td>\n",
       "      <td>C85</td>\n",
       "      <td>C</td>\n",
       "    </tr>\n",
       "    <tr>\n",
       "      <th>2</th>\n",
       "      <td>3</td>\n",
       "      <td>1</td>\n",
       "      <td>3</td>\n",
       "      <td>Heikkinen, Miss. Laina</td>\n",
       "      <td>female</td>\n",
       "      <td>26.0</td>\n",
       "      <td>0</td>\n",
       "      <td>0</td>\n",
       "      <td>STON/O2. 3101282</td>\n",
       "      <td>7.9250</td>\n",
       "      <td>NaN</td>\n",
       "      <td>S</td>\n",
       "    </tr>\n",
       "    <tr>\n",
       "      <th>3</th>\n",
       "      <td>4</td>\n",
       "      <td>1</td>\n",
       "      <td>1</td>\n",
       "      <td>Futrelle, Mrs. Jacques Heath (Lily May Peel)</td>\n",
       "      <td>female</td>\n",
       "      <td>35.0</td>\n",
       "      <td>1</td>\n",
       "      <td>0</td>\n",
       "      <td>113803</td>\n",
       "      <td>53.1000</td>\n",
       "      <td>C123</td>\n",
       "      <td>S</td>\n",
       "    </tr>\n",
       "    <tr>\n",
       "      <th>4</th>\n",
       "      <td>5</td>\n",
       "      <td>0</td>\n",
       "      <td>3</td>\n",
       "      <td>Allen, Mr. William Henry</td>\n",
       "      <td>male</td>\n",
       "      <td>35.0</td>\n",
       "      <td>0</td>\n",
       "      <td>0</td>\n",
       "      <td>373450</td>\n",
       "      <td>8.0500</td>\n",
       "      <td>NaN</td>\n",
       "      <td>S</td>\n",
       "    </tr>\n",
       "  </tbody>\n",
       "</table>\n",
       "</div>"
      ],
      "text/plain": [
       "   PassengerId  Survived  Pclass  \\\n",
       "0            1         0       3   \n",
       "1            2         1       1   \n",
       "2            3         1       3   \n",
       "3            4         1       1   \n",
       "4            5         0       3   \n",
       "\n",
       "                                                Name     Sex   Age  SibSp  \\\n",
       "0                            Braund, Mr. Owen Harris    male  22.0      1   \n",
       "1  Cumings, Mrs. John Bradley (Florence Briggs Th...  female  38.0      1   \n",
       "2                             Heikkinen, Miss. Laina  female  26.0      0   \n",
       "3       Futrelle, Mrs. Jacques Heath (Lily May Peel)  female  35.0      1   \n",
       "4                           Allen, Mr. William Henry    male  35.0      0   \n",
       "\n",
       "   Parch            Ticket     Fare Cabin Embarked  \n",
       "0      0         A/5 21171   7.2500   NaN        S  \n",
       "1      0          PC 17599  71.2833   C85        C  \n",
       "2      0  STON/O2. 3101282   7.9250   NaN        S  \n",
       "3      0            113803  53.1000  C123        S  \n",
       "4      0            373450   8.0500   NaN        S  "
      ]
     },
     "execution_count": 2,
     "metadata": {},
     "output_type": "execute_result"
    }
   ],
   "source": [
    "df.head()  # 显示前五个"
   ]
  },
  {
   "cell_type": "markdown",
   "metadata": {},
   "source": [
    "## 1.3 数据说明"
   ]
  },
  {
   "cell_type": "markdown",
   "metadata": {},
   "source": [
    "根据导入数据分析,本数据有12个变量,891个样本,变量有12个。\n",
    "\n",
    "变量及说明和值的类型:\n",
    "\n",
    "● PassengerId: 乘客ID\n",
    "\n",
    "● Survived: 生还与否 0=No, 1=Yes\n",
    "\n",
    "● Pclass: 客舱等级 1为高级, 2为中级, 3为普通\n",
    "\n",
    "● Name: 乘客名字\n",
    "\n",
    "● Sex: 性别 male,female\n",
    "\n",
    "● Age: 年龄 如果年龄小于1岁的用分数表示\n",
    "\n",
    "● SibSp: 亲属数目（包括兄弟姐妹和夫妻关系）\n",
    "\n",
    "● Parch: 直系亲属数目包括父母与小孩个数\n",
    "\n",
    "● Ticket: 票号\n",
    "\n",
    "● Fare: 票价\n",
    "\n",
    "● Cabin: 船舱号\n",
    "\n",
    "● Embarked: 登船口岸 S,Q,C"
   ]
  },
  {
   "cell_type": "code",
   "execution_count": 3,
   "metadata": {
    "collapsed": false
   },
   "outputs": [
    {
     "data": {
      "text/html": [
       "<div>\n",
       "<table border=\"1\" class=\"dataframe\">\n",
       "  <thead>\n",
       "    <tr style=\"text-align: right;\">\n",
       "      <th></th>\n",
       "      <th>PassengerId</th>\n",
       "      <th>Survived</th>\n",
       "      <th>Pclass</th>\n",
       "      <th>Age</th>\n",
       "      <th>SibSp</th>\n",
       "      <th>Parch</th>\n",
       "      <th>Fare</th>\n",
       "    </tr>\n",
       "  </thead>\n",
       "  <tbody>\n",
       "    <tr>\n",
       "      <th>count</th>\n",
       "      <td>891.000000</td>\n",
       "      <td>891.000000</td>\n",
       "      <td>891.000000</td>\n",
       "      <td>714.000000</td>\n",
       "      <td>891.000000</td>\n",
       "      <td>891.000000</td>\n",
       "      <td>891.000000</td>\n",
       "    </tr>\n",
       "    <tr>\n",
       "      <th>mean</th>\n",
       "      <td>446.000000</td>\n",
       "      <td>0.383838</td>\n",
       "      <td>2.308642</td>\n",
       "      <td>29.699118</td>\n",
       "      <td>0.523008</td>\n",
       "      <td>0.381594</td>\n",
       "      <td>32.204208</td>\n",
       "    </tr>\n",
       "    <tr>\n",
       "      <th>std</th>\n",
       "      <td>257.353842</td>\n",
       "      <td>0.486592</td>\n",
       "      <td>0.836071</td>\n",
       "      <td>14.526497</td>\n",
       "      <td>1.102743</td>\n",
       "      <td>0.806057</td>\n",
       "      <td>49.693429</td>\n",
       "    </tr>\n",
       "    <tr>\n",
       "      <th>min</th>\n",
       "      <td>1.000000</td>\n",
       "      <td>0.000000</td>\n",
       "      <td>1.000000</td>\n",
       "      <td>0.420000</td>\n",
       "      <td>0.000000</td>\n",
       "      <td>0.000000</td>\n",
       "      <td>0.000000</td>\n",
       "    </tr>\n",
       "    <tr>\n",
       "      <th>25%</th>\n",
       "      <td>223.500000</td>\n",
       "      <td>0.000000</td>\n",
       "      <td>2.000000</td>\n",
       "      <td>20.125000</td>\n",
       "      <td>0.000000</td>\n",
       "      <td>0.000000</td>\n",
       "      <td>7.910400</td>\n",
       "    </tr>\n",
       "    <tr>\n",
       "      <th>50%</th>\n",
       "      <td>446.000000</td>\n",
       "      <td>0.000000</td>\n",
       "      <td>3.000000</td>\n",
       "      <td>28.000000</td>\n",
       "      <td>0.000000</td>\n",
       "      <td>0.000000</td>\n",
       "      <td>14.454200</td>\n",
       "    </tr>\n",
       "    <tr>\n",
       "      <th>75%</th>\n",
       "      <td>668.500000</td>\n",
       "      <td>1.000000</td>\n",
       "      <td>3.000000</td>\n",
       "      <td>38.000000</td>\n",
       "      <td>1.000000</td>\n",
       "      <td>0.000000</td>\n",
       "      <td>31.000000</td>\n",
       "    </tr>\n",
       "    <tr>\n",
       "      <th>max</th>\n",
       "      <td>891.000000</td>\n",
       "      <td>1.000000</td>\n",
       "      <td>3.000000</td>\n",
       "      <td>80.000000</td>\n",
       "      <td>8.000000</td>\n",
       "      <td>6.000000</td>\n",
       "      <td>512.329200</td>\n",
       "    </tr>\n",
       "  </tbody>\n",
       "</table>\n",
       "</div>"
      ],
      "text/plain": [
       "       PassengerId    Survived      Pclass         Age       SibSp  \\\n",
       "count   891.000000  891.000000  891.000000  714.000000  891.000000   \n",
       "mean    446.000000    0.383838    2.308642   29.699118    0.523008   \n",
       "std     257.353842    0.486592    0.836071   14.526497    1.102743   \n",
       "min       1.000000    0.000000    1.000000    0.420000    0.000000   \n",
       "25%     223.500000    0.000000    2.000000   20.125000    0.000000   \n",
       "50%     446.000000    0.000000    3.000000   28.000000    0.000000   \n",
       "75%     668.500000    1.000000    3.000000   38.000000    1.000000   \n",
       "max     891.000000    1.000000    3.000000   80.000000    8.000000   \n",
       "\n",
       "            Parch        Fare  \n",
       "count  891.000000  891.000000  \n",
       "mean     0.381594   32.204208  \n",
       "std      0.806057   49.693429  \n",
       "min      0.000000    0.000000  \n",
       "25%      0.000000    7.910400  \n",
       "50%      0.000000   14.454200  \n",
       "75%      0.000000   31.000000  \n",
       "max      6.000000  512.329200  "
      ]
     },
     "execution_count": 3,
     "metadata": {},
     "output_type": "execute_result"
    }
   ],
   "source": [
    "df.describe()"
   ]
  },
  {
   "cell_type": "code",
   "execution_count": 4,
   "metadata": {
    "collapsed": false
   },
   "outputs": [
    {
     "data": {
      "image/png": "[encoded data removed]",
      "text/plain": [
       "<matplotlib.figure.Figure at 0x2f78130>"
      ]
     },
     "metadata": {},
     "output_type": "display_data"
    },
    {
     "name": "stdout",
     "output_type": "stream",
     "text": [
      "mean= 0.383838383838\n"
     ]
    }
   ],
   "source": [
    "df.Survived.value_counts().plot(kind='pie',autopct='%.0f%%',labels=['Not Survived','Survived'],title='Survived Rate')\n",
    "plt.show()\n",
    "print 'mean=' ,df.Survived.mean()"
   ]
  },
  {
   "cell_type": "markdown",
   "metadata": {},
   "source": [
    "● 全体乘客的生存率： 约38%"
   ]
  },
  {
   "cell_type": "markdown",
   "metadata": {},
   "source": [
    "## 1.4 修改数据"
   ]
  },
  {
   "cell_type": "markdown",
   "metadata": {},
   "source": [
    "存在数据缺失的有年龄,船舱号,上船地点：\n",
    "\n",
    "● Age: 年龄 年龄缺失有891-714=177,用求平均数加减标准差乘以随机数来生成\n",
    "\n",
    "● Cabin: 船舱号 只有204名乘客是已知，缺失过多，且生存与否关系不明显所以不使用这个参数\n",
    "\n",
    "● Embarked: 登船口岸 登船口岸缺失不多,以最多的登船口岸S来填充\n",
    "\n",
    "● Ticket: 票号 票号意义不大主观上不考虑"
   ]
  },
  {
   "cell_type": "code",
   "execution_count": 5,
   "metadata": {
    "collapsed": false
   },
   "outputs": [
    {
     "name": "stdout",
     "output_type": "stream",
     "text": [
      "<class 'pandas.core.frame.DataFrame'>\n",
      "RangeIndex: 891 entries, 0 to 890\n",
      "Data columns (total 10 columns):\n",
      "PassengerId    891 non-null int64\n",
      "Survived       891 non-null int64\n",
      "Pclass         891 non-null int64\n",
      "Name           891 non-null object\n",
      "Sex            891 non-null object\n",
      "Age            891 non-null float64\n",
      "SibSp          891 non-null int64\n",
      "Parch          891 non-null int64\n",
      "Fare           891 non-null float64\n",
      "Embarked       891 non-null object\n",
      "dtypes: float64(2), int64(5), object(3)\n",
      "memory usage: 59.2+ KB\n"
     ]
    },
    {
     "name": "stderr",
     "output_type": "stream",
     "text": [
      "C:\\ProgramData\\Anaconda2\\lib\\site-packages\\ipykernel\\__main__.py:6: SettingWithCopyWarning: \n",
      "A value is trying to be set on a copy of a slice from a DataFrame\n",
      "\n",
      "See the caveats in the documentation: http://pandas.pydata.org/pandas-docs/stable/indexing.html#indexing-view-versus-copy\n",
      "C:\\ProgramData\\Anaconda2\\lib\\site-packages\\ipykernel\\__main__.py:9: SettingWithCopyWarning: \n",
      "A value is trying to be set on a copy of a slice from a DataFrame\n",
      "\n",
      "See the caveats in the documentation: http://pandas.pydata.org/pandas-docs/stable/indexing.html#indexing-view-versus-copy\n"
     ]
    }
   ],
   "source": [
    "# Age:年龄缺失有891-714=177,缺失的可以用求平均数加减标准差乘以随机数来生成\n",
    "mean_age = df[\"Age\"].mean()\n",
    "std_age = df[\"Age\"].std()\n",
    "count_nan_age = df[\"Age\"].isnull().sum()\n",
    "rand_1 = np.random.randint(mean_age - std_age, mean_age + std_age, size = count_nan_age)\n",
    "df[\"Age\"][np.isnan(df[\"Age\"])] = rand_1\n",
    "\n",
    "# Embarked:上船地点缺失不多,以最多的上船地址S来填充\n",
    "df.Embarked[df.Embarked.isnull()] = df.Embarked.dropna().mode().values\n",
    "\n",
    "# Cabin:只有204名乘客是已知，缺失过多，且生存与否关系不明显主观上不考虑\n",
    "df = df.drop(\"Cabin\",axis=1)\n",
    "\n",
    "# Ticket:票号意义不大主观上不考虑\n",
    "df = df.drop(\"Ticket\",axis=1)\n",
    "\n",
    "df.info()"
   ]
  },
  {
   "cell_type": "markdown",
   "metadata": {},
   "source": [
    "遇到缺值的情况，一般有几种常见的处理方式：\n",
    "\n",
    "● 如果缺失值的样本占总数的比例极高，可直接丢弃，因为它或许是噪点。\n",
    "\n",
    "● 如果缺失值的样本适中，而且该属性不是连续值特征，可以把NaN作为新类别，加入到类别特征中去。\n",
    "\n",
    "● 如果缺失值的样本适中，而该属性又是连续型的，有时候就会考虑给定一个离散化值。\n",
    "\n",
    "● 有些情况下，缺失的值个数并不是特别多，也可以试着根据已有的值，拟合一下数据补充上。\n",
    "\n",
    "Referred to: http://www.jianshu.com/p/3ecf2718b033"
   ]
  },
  {
   "cell_type": "markdown",
   "metadata": {},
   "source": [
    "# 2. 分析数据"
   ]
  },
  {
   "cell_type": "markdown",
   "metadata": {},
   "source": [
    "## 提出问题\n",
    "\n",
    "有哪些因素和生存Survived有关系：\n",
    "\n",
    "● 生存与Sibsp/Parch家庭成员的关系\n",
    "\n",
    "● 生存与Pclass客舱等级的关系\n",
    "\n",
    "● 生存与Sex性别的关系\n",
    "\n",
    "● 生存与Embarked上船地点的关系\n",
    "\n",
    "● 生存与Age年龄的关系\n",
    "\n",
    "● 生存与Fare票价费用的关系"
   ]
  },
  {
   "cell_type": "markdown",
   "metadata": {},
   "source": [
    "## 2.1 生存与Sibsp/Parch家庭成员的关系"
   ]
  },
  {
   "cell_type": "code",
   "execution_count": 6,
   "metadata": {
    "collapsed": false
   },
   "outputs": [
    {
     "data": {
      "image/png": "[encoded data removed]",
      "text/plain": [
       "<matplotlib.figure.Figure at 0x8fda290>"
      ]
     },
     "metadata": {},
     "output_type": "display_data"
    },
    {
     "data": {
      "image/png": "[encoded data removed]",
      "text/plain": [
       "<matplotlib.figure.Figure at 0x8fda130>"
      ]
     },
     "metadata": {},
     "output_type": "display_data"
    }
   ],
   "source": [
    "# 家庭成员考虑Sibsp和Parch的情况\n",
    "df['Family']=df['SibSp']+df['Parch']\n",
    "def num_1(x):\n",
    "    if x>0:\n",
    "        return 1\n",
    "    else:\n",
    "        return 0\n",
    "df['Family'] = df['Family'].apply(num_1)\n",
    "\n",
    "Family_df=df[['Family','Survived']]\n",
    "\n",
    "Family_df.groupby(['Family','Survived'])['Survived'].count().unstack().plot(kind='bar',stacked='True')\n",
    "plt.title(u\"有无家庭成员乘客的生存情况对比\")\n",
    "plt.ylabel(u\"乘客人数\")\n",
    "plt.xlabel(u\"是否有家庭成员\") # 0 没有 ； 1 有\n",
    "\n",
    "Family_df.groupby(['Family']).mean().plot(kind='bar')\n",
    "plt.title(u\"有无家庭成员乘客的生存率对比\")\n",
    "plt.ylabel(u\"生存率\")\n",
    "plt.xlabel(u\"是否有家庭成员\") # 0 没有 ； 1 有\n",
    "plt.show()"
   ]
  },
  {
   "cell_type": "markdown",
   "metadata": {},
   "source": [
    "### ● 说明：从样本上看有家庭成员的获救率相对较高"
   ]
  },
  {
   "cell_type": "markdown",
   "metadata": {},
   "source": [
    "## 2.2 生存与Pclass客舱等级的关系"
   ]
  },
  {
   "cell_type": "code",
   "execution_count": 7,
   "metadata": {
    "collapsed": false
   },
   "outputs": [
    {
     "data": {
      "image/png": "[encoded data removed]",
      "text/plain": [
       "<matplotlib.figure.Figure at 0x8ee83f0>"
      ]
     },
     "metadata": {},
     "output_type": "display_data"
    }
   ],
   "source": [
    "df.groupby('Pclass')['PassengerId'].count().plot(kind='pie',autopct='%.0f%%')\n",
    "\n",
    "plt.title(u\"乘客等级分布占总体情况图\")\n",
    "plt.show()"
   ]
  },
  {
   "cell_type": "code",
   "execution_count": 8,
   "metadata": {
    "collapsed": false
   },
   "outputs": [
    {
     "data": {
      "image/png": "[encoded data removed]",
      "text/plain": [
       "<matplotlib.figure.Figure at 0x8fb2a30>"
      ]
     },
     "metadata": {},
     "output_type": "display_data"
    }
   ],
   "source": [
    "fig = plt.figure()\n",
    "fig.set(alpha=0.2)  # 设定图表颜色alpha参数\n",
    "\n",
    "df.Pclass.value_counts().plot(kind=\"bar\")\n",
    "plt.title(u\"乘客等级分布人数\")\n",
    "plt.xlabel(u\"乘客等级\")\n",
    "plt.ylabel(u\"人数\")\n",
    "plt.show()"
   ]
  },
  {
   "cell_type": "markdown",
   "metadata": {},
   "source": [
    "进一步分析各等级乘客的生存情况："
   ]
  },
  {
   "cell_type": "code",
   "execution_count": 9,
   "metadata": {
    "collapsed": false
   },
   "outputs": [
    {
     "data": {
      "text/plain": [
       "<matplotlib.figure.Figure at 0x9411250>"
      ]
     },
     "metadata": {},
     "output_type": "display_data"
    },
    {
     "data": {
      "image/png": "[encoded data removed]",
      "text/plain": [
       "<matplotlib.figure.Figure at 0x941cf30>"
      ]
     },
     "metadata": {},
     "output_type": "display_data"
    },
    {
     "data": {
      "image/png": "[encoded data removed]",
      "text/plain": [
       "<matplotlib.figure.Figure at 0x95a2210>"
      ]
     },
     "metadata": {},
     "output_type": "display_data"
    }
   ],
   "source": [
    "fig = plt.figure()\n",
    "fig.set(alpha=0.2)\n",
    "\n",
    "Survived_P0 = df.Pclass[df.Survived == 0].value_counts()\n",
    "Survived_P1 = df.Pclass[df.Survived == 1].value_counts()\n",
    "situation = pd.DataFrame({u\"获救\":Survived_P1,u\"未获救\":Survived_P0})\n",
    "situation.plot(kind='bar',stacked=True)\n",
    "plt.title(u\"各等级乘客的生存情况\")\n",
    "plt.xlabel(u\"乘客等级\")\n",
    "plt.ylabel(u\"人数\")\n",
    "\n",
    "Pclass_df=df[[\"Pclass\",\"Survived\"]]\n",
    "Pclass_df.groupby(['Pclass']).mean().plot(kind='bar')\n",
    "plt.title(u\"各等级乘客的生存率\")\n",
    "plt.xlabel(u\"乘客等级\")\n",
    "plt.ylabel(u\"人数\")\n",
    "plt.show()"
   ]
  },
  {
   "cell_type": "markdown",
   "metadata": {},
   "source": [
    "### ● 说明：高等舱里面获救的几率就要大得多"
   ]
  },
  {
   "cell_type": "markdown",
   "metadata": {},
   "source": [
    "## 2.3 生存与Sex性别的关系"
   ]
  },
  {
   "cell_type": "code",
   "execution_count": 10,
   "metadata": {
    "collapsed": false
   },
   "outputs": [
    {
     "data": {
      "text/plain": [
       "<matplotlib.figure.Figure at 0x8f1ad50>"
      ]
     },
     "metadata": {},
     "output_type": "display_data"
    },
    {
     "data": {
      "image/png": "[encoded data removed]",
      "text/plain": [
       "<matplotlib.figure.Figure at 0x95f1f30>"
      ]
     },
     "metadata": {},
     "output_type": "display_data"
    }
   ],
   "source": [
    "fig = plt.figure()\n",
    "fig.set(alpha=0.2)\n",
    "\n",
    "Survived_S0 = df.Sex[df.Survived == 0].value_counts()\n",
    "Survived_S1 = df.Sex[df.Survived == 1].value_counts()\n",
    "situation = pd.DataFrame({u\"获救\":Survived_S1,u\"未获救\":Survived_S0})\n",
    "situation.plot(kind='bar',stacked=True)\n",
    "plt.title(u\"从性别看获救情况\")\n",
    "plt.xlabel(u\"性别\")\n",
    "plt.ylabel(u\"人数\")\n",
    "plt.show()"
   ]
  },
  {
   "cell_type": "markdown",
   "metadata": {},
   "source": [
    "### ● 说明：从图表中明显可以看出是女性获救机率比男性高"
   ]
  },
  {
   "cell_type": "markdown",
   "metadata": {},
   "source": [
    "## 2.4 生存与Embarked登船口岸的关系"
   ]
  },
  {
   "cell_type": "code",
   "execution_count": 11,
   "metadata": {
    "collapsed": false
   },
   "outputs": [
    {
     "data": {
      "text/plain": [
       "<matplotlib.figure.Figure at 0x96b6ad0>"
      ]
     },
     "metadata": {},
     "output_type": "display_data"
    },
    {
     "data": {
      "image/png": "[encoded data removed]",
      "text/plain": [
       "<matplotlib.figure.Figure at 0x95fb650>"
      ]
     },
     "metadata": {},
     "output_type": "display_data"
    },
    {
     "data": {
      "image/png": "[encoded data removed]",
      "text/plain": [
       "<matplotlib.figure.Figure at 0x99215b0>"
      ]
     },
     "metadata": {},
     "output_type": "display_data"
    }
   ],
   "source": [
    "fig = plt.figure()\n",
    "fig.set(alpha=0.2)\n",
    "\n",
    "Survived_E0 = df.Embarked[df.Survived == 0].value_counts()\n",
    "Survived_E1 = df.Embarked[df.Survived == 1].value_counts()\n",
    "situation = pd.DataFrame({u\"获救\":Survived_E1,u\"未获救\":Survived_E0})\n",
    "situation.plot(kind='bar',stacked=True)\n",
    "plt.title(u\"各登船口岸乘客的获救情况\")\n",
    "plt.xlabel(u\"登船口岸\")\n",
    "plt.ylabel(u\"人数\")\n",
    "\n",
    "Embarked_df=df[[\"Embarked\",\"Survived\"]]\n",
    "Embarked_df.groupby(['Embarked']).mean().plot(kind='bar')\n",
    "plt.title(u\"各登船口岸乘客的获救率\")\n",
    "plt.xlabel(u\"登船口岸\")\n",
    "plt.ylabel(u\"人数\")\n",
    "plt.show()"
   ]
  },
  {
   "cell_type": "markdown",
   "metadata": {},
   "source": [
    "### ● 说明：C登船口岸的乘客生存率略高，不过总体关系不大"
   ]
  },
  {
   "cell_type": "markdown",
   "metadata": {},
   "source": [
    "## 2.5 生存与Age年龄的关系"
   ]
  },
  {
   "cell_type": "code",
   "execution_count": 12,
   "metadata": {
    "collapsed": false
   },
   "outputs": [
    {
     "name": "stderr",
     "output_type": "stream",
     "text": [
      "C:\\ProgramData\\Anaconda2\\lib\\site-packages\\ipykernel\\__main__.py:12: SettingWithCopyWarning: \n",
      "A value is trying to be set on a copy of a slice from a DataFrame.\n",
      "Try using .loc[row_indexer,col_indexer] = value instead\n",
      "\n",
      "See the caveats in the documentation: http://pandas.pydata.org/pandas-docs/stable/indexing.html#indexing-view-versus-copy\n"
     ]
    },
    {
     "data": {
      "image/png": "[encoded data removed]",
      "text/plain": [
       "<matplotlib.figure.Figure at 0x99219f0>"
      ]
     },
     "metadata": {},
     "output_type": "display_data"
    },
    {
     "data": {
      "image/png": "[encoded data removed]",
      "text/plain": [
       "<matplotlib.figure.Figure at 0x9a8c570>"
      ]
     },
     "metadata": {},
     "output_type": "display_data"
    },
    {
     "data": {
      "image/png": "[encoded data removed]",
      "text/plain": [
       "<matplotlib.figure.Figure at 0x992ca30>"
      ]
     },
     "metadata": {},
     "output_type": "display_data"
    }
   ],
   "source": [
    "fig=plt.figure()\n",
    "fig.set(alpha=0.2)\n",
    "\n",
    "ax=fig.add_subplot(1,1,1)\n",
    "ax.hist(df['Age'],bins=10)\n",
    "plt.title(u\"年龄分布\")\n",
    "plt.xlabel(u\"年龄\")\n",
    "plt.ylabel(u\"人口总数\")\n",
    "\n",
    "Age_df=df[['Age','Survived']]\n",
    "bins = np.arange(0,90,10)\n",
    "Age_df['Age_group']=pd.cut(Age_df['Age'], bins)\n",
    "Age_df.groupby(['Age_group','Survived'])['Survived'].count().unstack().plot(kind='bar',stacked=True)\n",
    "plt.title(u\"各年龄的生存情况\")\n",
    "plt.xlabel(u\"年龄分布\")\n",
    "plt.ylabel(u\"人口总数\")\n",
    "\n",
    "Age_df = Age_df.drop(\"Age\",axis=1)\n",
    "Age_df.groupby(['Age_group']).mean().plot(kind='bar',stacked=True)\n",
    "plt.title(u\"各年龄的生存率\")\n",
    "plt.xlabel(u\"年龄分布\")\n",
    "plt.ylabel(u\"生存率\")\n",
    "plt.show()"
   ]
  },
  {
   "cell_type": "markdown",
   "metadata": {},
   "source": [
    "### ● 说明：小于10岁的小孩的生存率比起其它年龄段的高"
   ]
  },
  {
   "cell_type": "markdown",
   "metadata": {},
   "source": [
    "## 2.6 生存与Fare票价费用的关系"
   ]
  },
  {
   "cell_type": "code",
   "execution_count": 13,
   "metadata": {
    "collapsed": false
   },
   "outputs": [
    {
     "name": "stderr",
     "output_type": "stream",
     "text": [
      "C:\\ProgramData\\Anaconda2\\lib\\site-packages\\ipykernel\\__main__.py:12: SettingWithCopyWarning: \n",
      "A value is trying to be set on a copy of a slice from a DataFrame.\n",
      "Try using .loc[row_indexer,col_indexer] = value instead\n",
      "\n",
      "See the caveats in the documentation: http://pandas.pydata.org/pandas-docs/stable/indexing.html#indexing-view-versus-copy\n"
     ]
    },
    {
     "data": {
      "image/png": "[encoded data removed]",
      "text/plain": [
       "<matplotlib.figure.Figure at 0x95fbb70>"
      ]
     },
     "metadata": {},
     "output_type": "display_data"
    },
    {
     "data": {
      "image/png": "[encoded data removed]",
      "text/plain": [
       "<matplotlib.figure.Figure at 0x95988d0>"
      ]
     },
     "metadata": {},
     "output_type": "display_data"
    },
    {
     "data": {
      "image/png": "[encoded data removed]",
      "text/plain": [
       "<matplotlib.figure.Figure at 0x95985d0>"
      ]
     },
     "metadata": {},
     "output_type": "display_data"
    }
   ],
   "source": [
    "fig=plt.figure()\n",
    "fig.set(alpha=0.2)\n",
    "\n",
    "ax=fig.add_subplot(1,1,1)\n",
    "ax.hist(df['Fare'],bins=10)\n",
    "plt.title(u\"各票价段的乘客分布\")\n",
    "plt.xlabel(u\"票价\")\n",
    "plt.ylabel(u\"人口总数\")\n",
    "\n",
    "Fare_df=df[['Fare','Survived']]\n",
    "bins = np.arange(0,600,50)\n",
    "Fare_df['Fare_group']=pd.cut(Fare_df['Fare'], bins)\n",
    "Fare_df.groupby(['Fare_group','Survived'])['Survived'].count().unstack().plot(kind='bar',stacked=True)\n",
    "plt.title(u\"各票价段的乘客生存情况\")\n",
    "plt.xlabel(u\"乘客票价分布\")\n",
    "plt.ylabel(u\"人口总数\")\n",
    "\n",
    "Fare_df = Fare_df.drop(\"Fare\",axis=1)\n",
    "Fare_df.groupby(['Fare_group']).mean().plot(kind='bar',stacked=True)\n",
    "plt.title(u\"各票价段的乘客生存率\")\n",
    "plt.xlabel(u\"乘客票价分布\")\n",
    "plt.ylabel(u\"生存率\")\n",
    "plt.show()"
   ]
  },
  {
   "cell_type": "markdown",
   "metadata": {},
   "source": [
    "### ● 说明：根据分析图看，大多数人属于50元以内且生存率相对最低，超过500元的生存率最高，但是只有一个，属于异常值"
   ]
  },
  {
   "cell_type": "markdown",
   "metadata": {},
   "source": [
    "# 3. 得出结论"
   ]
  },
  {
   "cell_type": "markdown",
   "metadata": {
    "collapsed": true
   },
   "source": [
    "● 从样本的生存比例和数据相关性上看：\n",
    "\n",
    "  高等舱里面获救的几率高；\n",
    "\n",
    "  女性获救的机率比男性的高；\n",
    "\n",
    "  小于10岁的小孩的生存率比起其它年龄段的高；\n",
    "\n",
    "  票价较低的生存率相对最低；\n",
    "\n",
    "  有家庭成员的获救率相对较高；\n",
    "\n",
    "  C登船口岸的乘客生存率略高，但总体关系不大。\n",
    "\n",
    "● 因此，高等舱的乘客，女性，儿童以及有家人成员的乘客有更高的生还率。\n"
   ]
  },
  {
   "cell_type": "markdown",
   "metadata": {},
   "source": [
    "# 4. 扩展问题"
   ]
  },
  {
   "cell_type": "markdown",
   "metadata": {
    "collapsed": true
   },
   "source": [
    "#### ● 1.报告中使用的数据是全部乘客数据吗？样本的大小如何？会不会可能有偏差？如果样本不能够代表整体人口，分析还正确吗？\n",
    "\n",
    "此数据是泰坦尼克号上2224名乘客和船员中891名的人口学数据，根据此样本占比为约40%,根据样本的随机性分布考虑得出的结论只能反映样本的相关性,虽然有可能出现偏差,但是以该样本分析总体还是有一定支持依据。"
   ]
  },
  {
   "cell_type": "markdown",
   "metadata": {},
   "source": [
    "#### ● 2.对数据处理的方法会不会带入偏差和不确定性？\n",
    "\n",
    "在数据的处理中，Age年龄和Embarked登船口岸的进行了缺失数据的引入，可能会带来数据偏差和不确定性。"
   ]
  },
  {
   "cell_type": "markdown",
   "metadata": {},
   "source": [
    "#### ● 3.有没有其他因素可能影响存活率但是没有数据呢？\n",
    "\n",
    "可能影响存活率的其他因素：\n",
    "\n",
    " ● 乘客的职业和具体来自地区\n",
    " \n",
    " ● 相对完整的舱位号和舱位的分布部位\n",
    " \n",
    " ● 救生艇的分布\n",
    " \n",
    " ● 救生艇的数量和容量\n",
    "\n",
    "可以更有效的帮助分析生还率,但是相关数据未提供。"
   ]
  }
 ],
 "metadata": {
  "kernelspec": {
   "display_name": "Python 2",
   "language": "python",
   "name": "python2"
  },
  "language_info": {
   "codemirror_mode": {
    "name": "ipython",
    "version": 2
   },
   "file_extension": ".py",
   "mimetype": "text/x-python",
   "name": "python",
   "nbconvert_exporter": "python",
   "pygments_lexer": "ipython2",
   "version": "2.7.13"
  }
 },
 "nbformat": 4,
 "nbformat_minor": 2
}
